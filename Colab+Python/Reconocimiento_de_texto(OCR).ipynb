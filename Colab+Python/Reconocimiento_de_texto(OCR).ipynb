{
  "nbformat": 4,
  "nbformat_minor": 0,
  "metadata": {
    "colab": {
      "name": "Reconocimiento de TEXTO(OCR).ipynb",
      "provenance": [],
      "authorship_tag": "ABX9TyPjPipCQryKjaALTHr1fLLY",
      "include_colab_link": true
    },
    "kernelspec": {
      "name": "python3",
      "display_name": "Python 3"
    }
  },
  "cells": [
    {
      "cell_type": "markdown",
      "metadata": {
        "id": "view-in-github",
        "colab_type": "text"
      },
      "source": [
        "<a href=\"https://colab.research.google.com/github/ElsellamaJesus/Ing.Conocimiento/blob/main/Reconocimiento_de_TEXTO(OCR).ipynb\" target=\"_parent\"><img src=\"https://colab.research.google.com/assets/colab-badge.svg\" alt=\"Open In Colab\"/></a>"
      ]
    },
    {
      "cell_type": "code",
      "metadata": {
        "colab": {
          "base_uri": "https://localhost:8080/"
        },
        "id": "B0zuf1YED8E8",
        "outputId": "865afaab-51a7-4b56-d650-c75f40eff393"
      },
      "source": [
        "pip install torch===1.7.0 torchvision===0.8.1 torchaudio===0.7.0 -f https://download.pytorch.org/whl/torch_stable.html"
      ],
      "execution_count": null,
      "outputs": [
        {
          "output_type": "stream",
          "text": [
            "Looking in links: https://download.pytorch.org/whl/torch_stable.html\n",
            "Collecting torch===1.7.0\n",
            "\u001b[?25l  Downloading https://files.pythonhosted.org/packages/80/2a/58f8078744e0408619c63148f7a2e8e48cf007e4146b74d4bb67c56d161b/torch-1.7.0-cp36-cp36m-manylinux1_x86_64.whl (776.7MB)\n",
            "\u001b[K     |████████████████████████████████| 776.7MB 21kB/s \n",
            "\u001b[?25hCollecting torchvision===0.8.1\n",
            "\u001b[?25l  Downloading https://files.pythonhosted.org/packages/e7/43/aaa740c406b1832adc6ff9d5e71c23fd2af2ebd436c42d76d85809ec8be9/torchvision-0.8.1-cp36-cp36m-manylinux1_x86_64.whl (12.8MB)\n",
            "\u001b[K     |████████████████████████████████| 12.8MB 42.4MB/s \n",
            "\u001b[?25hCollecting torchaudio===0.7.0\n",
            "\u001b[?25l  Downloading https://files.pythonhosted.org/packages/3f/23/6b54106b3de029d3f10cf8debc302491c17630357449c900d6209665b302/torchaudio-0.7.0-cp36-cp36m-manylinux1_x86_64.whl (7.6MB)\n",
            "\u001b[K     |████████████████████████████████| 7.6MB 45.4MB/s \n",
            "\u001b[?25hRequirement already satisfied: typing-extensions in /usr/local/lib/python3.6/dist-packages (from torch===1.7.0) (3.7.4.3)\n",
            "Requirement already satisfied: dataclasses in /usr/local/lib/python3.6/dist-packages (from torch===1.7.0) (0.8)\n",
            "Requirement already satisfied: numpy in /usr/local/lib/python3.6/dist-packages (from torch===1.7.0) (1.18.5)\n",
            "Requirement already satisfied: future in /usr/local/lib/python3.6/dist-packages (from torch===1.7.0) (0.16.0)\n",
            "Requirement already satisfied: pillow>=4.1.1 in /usr/local/lib/python3.6/dist-packages (from torchvision===0.8.1) (7.0.0)\n",
            "Installing collected packages: torch, torchvision, torchaudio\n",
            "  Found existing installation: torch 1.7.0+cu101\n",
            "    Uninstalling torch-1.7.0+cu101:\n",
            "      Successfully uninstalled torch-1.7.0+cu101\n",
            "  Found existing installation: torchvision 0.8.1+cu101\n",
            "    Uninstalling torchvision-0.8.1+cu101:\n",
            "      Successfully uninstalled torchvision-0.8.1+cu101\n",
            "Successfully installed torch-1.7.0 torchaudio-0.7.0 torchvision-0.8.1\n"
          ],
          "name": "stdout"
        }
      ]
    },
    {
      "cell_type": "code",
      "metadata": {
        "colab": {
          "base_uri": "https://localhost:8080/"
        },
        "id": "1-OmlrmdED-5",
        "outputId": "23fb6569-e49f-4121-cd3b-e036df8caa4f"
      },
      "source": [
        "pip install git+git://github.com/jaidedai/easyocr.git"
      ],
      "execution_count": null,
      "outputs": [
        {
          "output_type": "stream",
          "text": [
            "Collecting git+git://github.com/jaidedai/easyocr.git\n",
            "  Cloning git://github.com/jaidedai/easyocr.git to /tmp/pip-req-build-dfnzdtkj\n",
            "  Running command git clone -q git://github.com/jaidedai/easyocr.git /tmp/pip-req-build-dfnzdtkj\n",
            "Requirement already satisfied: torch in /usr/local/lib/python3.6/dist-packages (from easyocr==1.2.1) (1.7.0)\n",
            "Requirement already satisfied: torchvision>=0.5 in /usr/local/lib/python3.6/dist-packages (from easyocr==1.2.1) (0.8.1)\n",
            "Requirement already satisfied: opencv-python in /usr/local/lib/python3.6/dist-packages (from easyocr==1.2.1) (4.1.2.30)\n",
            "Requirement already satisfied: scipy in /usr/local/lib/python3.6/dist-packages (from easyocr==1.2.1) (1.4.1)\n",
            "Requirement already satisfied: numpy in /usr/local/lib/python3.6/dist-packages (from easyocr==1.2.1) (1.18.5)\n",
            "Requirement already satisfied: Pillow in /usr/local/lib/python3.6/dist-packages (from easyocr==1.2.1) (7.0.0)\n",
            "Requirement already satisfied: scikit-image in /usr/local/lib/python3.6/dist-packages (from easyocr==1.2.1) (0.16.2)\n",
            "Collecting python-bidi\n",
            "  Downloading https://files.pythonhosted.org/packages/33/b0/f942d146a2f457233baaafd6bdf624eba8e0f665045b4abd69d1b62d097d/python_bidi-0.4.2-py2.py3-none-any.whl\n",
            "Requirement already satisfied: PyYAML in /usr/local/lib/python3.6/dist-packages (from easyocr==1.2.1) (3.13)\n",
            "Requirement already satisfied: future in /usr/local/lib/python3.6/dist-packages (from torch->easyocr==1.2.1) (0.16.0)\n",
            "Requirement already satisfied: dataclasses in /usr/local/lib/python3.6/dist-packages (from torch->easyocr==1.2.1) (0.8)\n",
            "Requirement already satisfied: typing-extensions in /usr/local/lib/python3.6/dist-packages (from torch->easyocr==1.2.1) (3.7.4.3)\n",
            "Requirement already satisfied: networkx>=2.0 in /usr/local/lib/python3.6/dist-packages (from scikit-image->easyocr==1.2.1) (2.5)\n",
            "Requirement already satisfied: imageio>=2.3.0 in /usr/local/lib/python3.6/dist-packages (from scikit-image->easyocr==1.2.1) (2.4.1)\n",
            "Requirement already satisfied: PyWavelets>=0.4.0 in /usr/local/lib/python3.6/dist-packages (from scikit-image->easyocr==1.2.1) (1.1.1)\n",
            "Requirement already satisfied: matplotlib!=3.0.0,>=2.0.0 in /usr/local/lib/python3.6/dist-packages (from scikit-image->easyocr==1.2.1) (3.2.2)\n",
            "Requirement already satisfied: six in /usr/local/lib/python3.6/dist-packages (from python-bidi->easyocr==1.2.1) (1.15.0)\n",
            "Requirement already satisfied: decorator>=4.3.0 in /usr/local/lib/python3.6/dist-packages (from networkx>=2.0->scikit-image->easyocr==1.2.1) (4.4.2)\n",
            "Requirement already satisfied: python-dateutil>=2.1 in /usr/local/lib/python3.6/dist-packages (from matplotlib!=3.0.0,>=2.0.0->scikit-image->easyocr==1.2.1) (2.8.1)\n",
            "Requirement already satisfied: pyparsing!=2.0.4,!=2.1.2,!=2.1.6,>=2.0.1 in /usr/local/lib/python3.6/dist-packages (from matplotlib!=3.0.0,>=2.0.0->scikit-image->easyocr==1.2.1) (2.4.7)\n",
            "Requirement already satisfied: kiwisolver>=1.0.1 in /usr/local/lib/python3.6/dist-packages (from matplotlib!=3.0.0,>=2.0.0->scikit-image->easyocr==1.2.1) (1.3.1)\n",
            "Requirement already satisfied: cycler>=0.10 in /usr/local/lib/python3.6/dist-packages (from matplotlib!=3.0.0,>=2.0.0->scikit-image->easyocr==1.2.1) (0.10.0)\n",
            "Building wheels for collected packages: easyocr\n",
            "  Building wheel for easyocr (setup.py) ... \u001b[?25l\u001b[?25hdone\n",
            "  Created wheel for easyocr: filename=easyocr-1.2.1-cp36-none-any.whl size=62346208 sha256=ecb88ec4e12249809d4c2110154bb569ca833bceb70d6e647f54730ac0422e0d\n",
            "  Stored in directory: /tmp/pip-ephem-wheel-cache-c35y91ls/wheels/e8/77/61/a2618f4b50cdf417e0f3fd201f9814addc89e429bf05103fb3\n",
            "Successfully built easyocr\n",
            "Installing collected packages: python-bidi, easyocr\n",
            "Successfully installed easyocr-1.2.1 python-bidi-0.4.2\n"
          ],
          "name": "stdout"
        }
      ]
    },
    {
      "cell_type": "code",
      "metadata": {
        "id": "NBTdMaI-EynO"
      },
      "source": [
        "import easyocr"
      ],
      "execution_count": 8,
      "outputs": []
    },
    {
      "cell_type": "code",
      "metadata": {
        "id": "iY3hS3izE4G5",
        "colab": {
          "base_uri": "https://localhost:8080/"
        },
        "outputId": "81f7be3b-6bcf-49ad-9e86-2e12b80a92dc"
      },
      "source": [
        "reader = easyocr.Reader(['ch_sim','en'])\n",
        "result = reader.readtext('Frase.png')"
      ],
      "execution_count": 9,
      "outputs": [
        {
          "output_type": "stream",
          "text": [
            "CUDA not available - defaulting to CPU. Note: This module is much faster with a GPU.\n"
          ],
          "name": "stderr"
        }
      ]
    },
    {
      "cell_type": "code",
      "metadata": {
        "colab": {
          "base_uri": "https://localhost:8080/"
        },
        "id": "s_eae7v-MYHS",
        "outputId": "341b2061-9f48-4e1d-e862-42349c8654e9"
      },
      "source": [
        "result"
      ],
      "execution_count": 10,
      "outputs": [
        {
          "output_type": "execute_result",
          "data": {
            "text/plain": [
              "[([[31, 203], [767, 203], [767, 296], [31, 296]],\n",
              "  'Da siempre lo mejor deti.',\n",
              "  0.10493157804012299),\n",
              " ([[48, 288], [754, 288], [754, 384], [48, 384]],\n",
              "  'Lo que plantes ahora,lo',\n",
              "  0.6490011215209961),\n",
              " ([[100, 384], [703, 384], [703, 462], [100, 462]],\n",
              "  'cosecharas mas tarde',\n",
              "  0.3311351537704468),\n",
              " ([[318, 594], [478, 594], [478, 621], [318, 621]],\n",
              "  'OC MANDINO',\n",
              "  0.14347374439239502),\n",
              " ([[352, 678], [490, 678], [490, 710], [352, 710]],\n",
              "  'sumacRM',\n",
              "  0.4749748110771179)]"
            ]
          },
          "metadata": {
            "tags": []
          },
          "execution_count": 10
        }
      ]
    },
    {
      "cell_type": "code",
      "metadata": {
        "colab": {
          "base_uri": "https://localhost:8080/"
        },
        "id": "JHRfVJ3aNRnz",
        "outputId": "33341518-12df-4173-84e4-db35528ebb24"
      },
      "source": [
        "reader.readtext('Frase.png', detail = 0)"
      ],
      "execution_count": 11,
      "outputs": [
        {
          "output_type": "execute_result",
          "data": {
            "text/plain": [
              "['Da siempre lo mejor deti.',\n",
              " 'Lo que plantes ahora,lo',\n",
              " 'cosecharas mas tarde',\n",
              " 'OC MANDINO',\n",
              " 'sumacRM']"
            ]
          },
          "metadata": {
            "tags": []
          },
          "execution_count": 11
        }
      ]
    }
  ]
}