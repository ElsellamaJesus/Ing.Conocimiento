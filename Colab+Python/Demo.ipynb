{
  "nbformat": 4,
  "nbformat_minor": 0,
  "metadata": {
    "colab": {
      "name": "Demo.ipynb",
      "provenance": [],
      "authorship_tag": "ABX9TyOWmZHVa5tjGcVl2OkwYnbM",
      "include_colab_link": true
    },
    "kernelspec": {
      "name": "python3",
      "display_name": "Python 3"
    }
  },
  "cells": [
    {
      "cell_type": "markdown",
      "metadata": {
        "id": "view-in-github",
        "colab_type": "text"
      },
      "source": [
        "<a href=\"https://colab.research.google.com/github/ElsellamaJesus/Ing.Conocimiento/blob/main/Demo.ipynb\" target=\"_parent\"><img src=\"https://colab.research.google.com/assets/colab-badge.svg\" alt=\"Open In Colab\"/></a>"
      ]
    },
    {
      "cell_type": "code",
      "metadata": {
        "colab": {
          "base_uri": "https://localhost:8080/"
        },
        "id": "aIkbt_HQlEJb",
        "outputId": "69617cee-add1-47af-c04b-00ed4ad74a0e"
      },
      "source": [
        "# Ejemplo \n",
        "Edad = int(input(\"Introduce tu edad... \"));\n",
        "print (\"Tu edad es: \" + str(Edad) + \" años\")"
      ],
      "execution_count": 3,
      "outputs": [
        {
          "output_type": "stream",
          "text": [
            "Introduce tu edad... 20\n",
            "Tu edad es: 20 años\n"
          ],
          "name": "stdout"
        }
      ]
    }
  ]
}